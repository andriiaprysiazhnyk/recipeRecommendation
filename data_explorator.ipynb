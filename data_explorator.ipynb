{
 "cells": [
  {
   "cell_type": "code",
   "execution_count": 2,
   "metadata": {},
   "outputs": [],
   "source": [
    "import numpy as np\n",
    "import pandas as pd"
   ]
  },
  {
   "cell_type": "code",
   "execution_count": 3,
   "metadata": {},
   "outputs": [],
   "source": [
    "ingredients = pd.read_csv(\"cleaned_data3/ingredient.csv\", sep=\";\")\n",
    "abbrev = pd.read_csv(\"cleaned_data3/abbrev.csv\", sep=\";\")"
   ]
  },
  {
   "cell_type": "code",
   "execution_count": 14,
   "metadata": {},
   "outputs": [
    {
     "data": {
      "text/plain": [
       "8491"
      ]
     },
     "execution_count": 14,
     "metadata": {},
     "output_type": "execute_result"
    }
   ],
   "source": [
    "c = abbrev.GmWt_Desc1.dropna()\n",
    "len(c)"
   ]
  },
  {
   "cell_type": "code",
   "execution_count": 20,
   "metadata": {},
   "outputs": [
    {
     "data": {
      "text/plain": [
       "35                                                 ,5 cup\n",
       "36                                                 ,5 cup\n",
       "63                                                 1,5 oz\n",
       "82                                                ,25 cup\n",
       "83                                                ,25 cup\n",
       "86                                                ,25 cup\n",
       "130                                                ,35 oz\n",
       "136                                               ,25 cup\n",
       "193                                               ,25 cup\n",
       "199                                                ,5 cup\n",
       "200                                                ,5 cup\n",
       "207                                                ,5 cup\n",
       "210                                     ,25 cup; shredded\n",
       "226                                                5,3 oz\n",
       "227                                                5,3 oz\n",
       "228                                                5,3 oz\n",
       "229                                                5,3 oz\n",
       "230                                                5,3 oz\n",
       "298                                               ,25 tsp\n",
       "300                                             1,33 tbsp\n",
       "425                                                 ,5 oz\n",
       "859     ,5 breast; bone removed (yield from 1 lb ready...\n",
       "1013                                                ,5 lb\n",
       "1014                                                ,5 lb\n",
       "1015                                                ,5 lb\n",
       "1016                                                ,5 lb\n",
       "1184                                   ,5 cup;  (4 fl oz)\n",
       "1187                                               ,5 cup\n",
       "1191                                               ,5 cup\n",
       "1192                                               ,5 cup\n",
       "                              ...                        \n",
       "7647                                              ,25 cup\n",
       "7649                                              ,25 cup\n",
       "7653                                              ,25 cup\n",
       "7762               ,125 crust;  1 serving (from 9\" shell)\n",
       "7763                                ,125 crust;  9\" crust\n",
       "7902                                               ,5 cup\n",
       "7903                                 ,5 cup;  25 crackers\n",
       "7915                                           ,125 crust\n",
       "7968                            ,5 piece; bagel 1 serving\n",
       "7972                                  ,33 cup;  1 serving\n",
       "7973                               ,25 cup; mix 1 serving\n",
       "8060                                              ,25 cup\n",
       "8061                                              ,25 cup\n",
       "8075                                     ,25 cup; drained\n",
       "8078                                             ,333 cup\n",
       "8080                                             ,333 cup\n",
       "8096                                               ,5 cup\n",
       "8100                                           ,5 package\n",
       "8101                                           ,5 package\n",
       "8102                                ,25 cup; dry rice mix\n",
       "8108                                           ,5 package\n",
       "8155                                               ,5 cup\n",
       "8317                           ,75 cup;  (1 NLEA serving)\n",
       "8319                           ,75 cup;  (1 NLEA serving)\n",
       "8323                           ,75 cup;  (1 NLEA serving)\n",
       "8324                           ,75 cup;  (1 NLEA serving)\n",
       "8392                           ,67 cup;  (1 NLEA serving)\n",
       "8434                          1,25 cup;  (1 NLEA serving)\n",
       "8448                                               2,5 oz\n",
       "8470                           ,75 cup;  (1 NLEA serving)\n",
       "Name: GmWt_Desc1, Length: 560, dtype: object"
      ]
     },
     "execution_count": 20,
     "metadata": {},
     "output_type": "execute_result"
    }
   ],
   "source": [
    "c[c.apply(lambda x: not x.split()[0].isdigit())]"
   ]
  },
  {
   "cell_type": "code",
   "execution_count": null,
   "metadata": {},
   "outputs": [],
   "source": []
  }
 ],
 "metadata": {
  "kernelspec": {
   "display_name": "Python 3",
   "language": "python",
   "name": "python3"
  },
  "language_info": {
   "codemirror_mode": {
    "name": "ipython",
    "version": 3
   },
   "file_extension": ".py",
   "mimetype": "text/x-python",
   "name": "python",
   "nbconvert_exporter": "python",
   "pygments_lexer": "ipython3",
   "version": "3.7.3"
  }
 },
 "nbformat": 4,
 "nbformat_minor": 2
}
