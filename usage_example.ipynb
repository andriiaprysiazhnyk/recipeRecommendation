{
 "cells": [
  {
   "cell_type": "code",
   "execution_count": 2,
   "metadata": {},
   "outputs": [],
   "source": [
    "import pandas as pd\n",
    "from recipe_recommender import recommend_recipe"
   ]
  },
  {
   "cell_type": "code",
   "execution_count": 3,
   "metadata": {},
   "outputs": [],
   "source": [
    "def display_recipe(recipe, chemical_fileds):\n",
    "    print(\"Title: {}\\n\\nIngredients: {}\\n\\nTags: {}\\n\".format(recipe.title, recipe.ingredients, recipe.tags))\n",
    "    for chemical_field in chemical_fileds:\n",
    "        print(chemical_field + \": \" + str(recipe[chemical_field]))"
   ]
  },
  {
   "cell_type": "code",
   "execution_count": 4,
   "metadata": {},
   "outputs": [],
   "source": [
    "chemicals = [\"Calcium\", \"Vit_C\", \"Cholestrl\"]\n",
    "ingredients_pref = {\"cheese\": True, \"avocado\": True, \"egg\": True, \"bacon\": True, \"bread\": True}"
   ]
  },
  {
   "cell_type": "code",
   "execution_count": 5,
   "metadata": {},
   "outputs": [
    {
     "name": "stdout",
     "output_type": "stream",
     "text": [
      "Title: Breakfast Burritos\n",
      "\n",
      "Ingredients: egg|cheese|tortillas|salt pepper taste|salt pepper taste|butter olive oil|cilantro|roasted potato|avocado|uncooked bacon|chipotle salsa\n",
      "\n",
      "Tags: Gluten-Free|Peanut-Free|Tree-Nut-Free|Soy-Free|Fish-Free|Shellfish-Free|\n",
      "\n",
      "Calcium: 981.1027484834436\n",
      "Vit_C: 32.52\n",
      "Cholestrl: 193.56533500188243\n"
     ]
    }
   ],
   "source": [
    "recipe, similar = recommend_recipe(ingredients_pref, {\"Calcium\": (400, \"+\")})\n",
    "display_recipe(recipe, chemicals)"
   ]
  },
  {
   "cell_type": "code",
   "execution_count": 10,
   "metadata": {},
   "outputs": [
    {
     "name": "stdout",
     "output_type": "stream",
     "text": [
      "Title: Turkey Cobb Sandwich\n",
      "\n",
      "Ingredients: egg|ripe avocado|applewood smoked bacon|s unsalted butter softened; roll bun|thin tomato|thin cooked turkey|s crumbled blue cheese roquefort|brioche roll hamburger bun split\n",
      "\n",
      "Tags: Peanut-Free|Tree-Nut-Free|Soy-Free|Fish-Free|Shellfish-Free|High-Protein|Low-Carb\n",
      "\n",
      "Calcium: 602.5235000000001\n",
      "Vit_C: 4.598\n",
      "Cholestrl: 277.7233444423549\n"
     ]
    }
   ],
   "source": [
    "display_recipe(similar.iloc[2], chemicals)"
   ]
  },
  {
   "cell_type": "code",
   "execution_count": 7,
   "metadata": {},
   "outputs": [
    {
     "name": "stdout",
     "output_type": "stream",
     "text": [
      "Title: Travel Food - Chickpea and Avocado Sandwich\n",
      "\n",
      "Ingredients: onion|butter|bread|juice one lemon|sat pepper taste|fresh coriander mint leaves|fresh coriander mint leaves|avocado cucumber|boiled chickpeas\n",
      "\n",
      "Tags: Vegetarian|Egg-Free|Peanut-Free|Tree-Nut-Free|Soy-Free|Fish-Free|Shellfish-Free|Balanced|High-Fiber\n",
      "\n",
      "Calcium: 241.82665\n",
      "Vit_C: 83.05549021145745\n",
      "Cholestrl: 82.69137776941932\n"
     ]
    }
   ],
   "source": [
    "ingredients_pref[\"potato\"] = False\n",
    "ingredients_pref[\"bacon\"] = False\n",
    "recipe, similar = recommend_recipe(ingredients_pref, {\"Calcium\": (200, \"+\")})\n",
    "display_recipe(recipe, chemicals)"
   ]
  },
  {
   "cell_type": "code",
   "execution_count": 8,
   "metadata": {},
   "outputs": [
    {
     "name": "stdout",
     "output_type": "stream",
     "text": [
      "Title: Better than mcdonald's\n",
      "\n",
      "Ingredients: one avocado|two cheddar cheese favorite cheese|hardwood smoked bacon|one buttermilk biscuits|fake soy bacon|couple organic free range vegetarian fed egg|tblsp organic butter\n",
      "\n",
      "Tags: Peanut-Free|Tree-Nut-Free|Soy-Free|Fish-Free|Shellfish-Free|Low-Carb\n",
      "\n",
      "Calcium: 561.5830172334438\n",
      "Vit_C: 34.28967166968326\n",
      "Cholestrl: 412.59479755991197\n"
     ]
    }
   ],
   "source": [
    "chemical_pref = {\"Calcium\": (500, \"-\"), \"Vit_C\": (50, \"-\"), \"Cholestrl\": (100, \"+\")}\n",
    "recipe, similar = recommend_recipe(ingredients_pref, chemical_pref)\n",
    "display_recipe(recipe, chemicals)"
   ]
  }
 ],
 "metadata": {
  "kernelspec": {
   "display_name": "Python 3",
   "language": "python",
   "name": "python3"
  },
  "language_info": {
   "codemirror_mode": {
    "name": "ipython",
    "version": 3
   },
   "file_extension": ".py",
   "mimetype": "text/x-python",
   "name": "python",
   "nbconvert_exporter": "python",
   "pygments_lexer": "ipython3",
   "version": "3.7.3"
  }
 },
 "nbformat": 4,
 "nbformat_minor": 2
}
