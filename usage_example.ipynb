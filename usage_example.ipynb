{
 "cells": [
  {
   "cell_type": "code",
   "execution_count": 1,
   "metadata": {},
   "outputs": [
    {
     "name": "stderr",
     "output_type": "stream",
     "text": [
      "/home/andriiprysiazhnyk/anaconda3/lib/python3.7/site-packages/smart_open/smart_open_lib.py:398: UserWarning: This function is deprecated, use smart_open.open instead. See the migration notes for details: https://github.com/RaRe-Technologies/smart_open/blob/master/README.rst#migrating-to-the-new-open-function\n",
      "  'See the migration notes for details: %s' % _MIGRATION_NOTES_URL\n"
     ]
    }
   ],
   "source": [
    "import pandas as pd\n",
    "from recipe_recommender import get_best_recipe"
   ]
  },
  {
   "cell_type": "code",
   "execution_count": 2,
   "metadata": {},
   "outputs": [],
   "source": [
    "def display_recipe(recipe, chemical_fileds):\n",
    "    print(\"Title: {}\\n\\nIngredients: {}\\n\\nTags: {}\\n\".format(recipe.title, recipe.ingredients, recipe.tags))\n",
    "    for chemical_field in chemical_fileds:\n",
    "        print(chemical_field + \": \" + str(recipe[chemical_field]))"
   ]
  },
  {
   "cell_type": "code",
   "execution_count": 3,
   "metadata": {},
   "outputs": [],
   "source": [
    "chemicals = [\"Calcium\", \"Vit_C\", \"Cholestrl\"]\n",
    "ingredients_pref = {\"cheese\": True, \"avocado\": True, \"egg\": True, \"bacon\": True, \"bread\": True}"
   ]
  },
  {
   "cell_type": "code",
   "execution_count": 4,
   "metadata": {},
   "outputs": [
    {
     "name": "stdout",
     "output_type": "stream",
     "text": [
      "Title: Breakfast Burritos\n",
      "\n",
      "Ingredients: egg|cheese|tortillas|salt pepper taste|salt pepper taste|butter olive oil|cilantro|roasted potato|avocado|uncooked bacon|chipotle salsa\n",
      "\n",
      "Tags: Gluten-Free|Peanut-Free|Tree-Nut-Free|Soy-Free|Fish-Free|Shellfish-Free|\n",
      "\n",
      "Calcium: 981.1027484834436\n",
      "Vit_C: 32.52\n",
      "Cholestrl: 193.56533500188243\n"
     ]
    }
   ],
   "source": [
    "recipe, similar = get_best_recipe(ingredients_pref, {\"Calcium\": (400, \"+\")})\n",
    "display_recipe(recipe, chemicals)"
   ]
  },
  {
   "cell_type": "code",
   "execution_count": 5,
   "metadata": {},
   "outputs": [
    {
     "name": "stdout",
     "output_type": "stream",
     "text": [
      "Title: Egg; Tomato & Goat Cheese Breakfast Tartine\n",
      "\n",
      "Ingredients: butter|egg|splashes olive oil|salt pepper|tomato cherry tomato|sourdough bread|generous smears fresh goat cheese|lemon basil chiffonades\n",
      "\n",
      "Tags: Peanut-Free|Tree-Nut-Free|Soy-Free|Fish-Free|Shellfish-Free|\n",
      "\n",
      "Calcium: 1052.5038984834434\n",
      "Vit_C: 20.72635\n",
      "Cholestrl: 168.84224123158754\n"
     ]
    }
   ],
   "source": [
    "display_recipe(similar.iloc[0], chemicals)"
   ]
  },
  {
   "cell_type": "code",
   "execution_count": 7,
   "metadata": {},
   "outputs": [
    {
     "name": "stdout",
     "output_type": "stream",
     "text": [
      "Title: Better than mcdonald's\n",
      "\n",
      "Ingredients: one avocado|two cheddar cheese favorite cheese|hardwood smoked bacon|one buttermilk biscuits|fake soy bacon|couple organic free range vegetarian fed egg|tblsp organic butter\n",
      "\n",
      "Tags: Peanut-Free|Tree-Nut-Free|Soy-Free|Fish-Free|Shellfish-Free|Low-Carb\n",
      "\n",
      "Calcium: 561.5830172334438\n",
      "Vit_C: 34.28967166968326\n",
      "Cholestrl: 412.59479755991197\n"
     ]
    }
   ],
   "source": [
    "ingredients_pref[\"potato\"] = False\n",
    "chemical_pref = {\"Calcium\": (600, \"-\"), \"Vit_C\": (50, \"-\"), \"Cholestrl\": (100, \"+\")}\n",
    "recipe, similar = get_best_recipe(ingredients_pref, chemical_pref)\n",
    "display_recipe(recipe, chemicals)"
   ]
  },
  {
   "cell_type": "code",
   "execution_count": 8,
   "metadata": {},
   "outputs": [
    {
     "name": "stdout",
     "output_type": "stream",
     "text": [
      "Title: Travel Food - Chickpea and Avocado Sandwich\n",
      "\n",
      "Ingredients: onion|butter|bread|juice one lemon|sat pepper taste|fresh coriander mint leaves|fresh coriander mint leaves|avocado cucumber|boiled chickpeas\n",
      "\n",
      "Tags: Vegetarian|Egg-Free|Peanut-Free|Tree-Nut-Free|Soy-Free|Fish-Free|Shellfish-Free|Balanced|High-Fiber\n",
      "\n",
      "Calcium: 241.82665\n",
      "Vit_C: 83.05549021145745\n",
      "Cholestrl: 82.69137776941932\n"
     ]
    }
   ],
   "source": [
    "ingredients_pref[\"onion\"] = True\n",
    "ingredients_pref[\"bacon\"] = False\n",
    "recipe, similar = get_best_recipe(ingredients_pref, {\"Calcium\": (200, \"+\")})\n",
    "display_recipe(recipe, chemicals)"
   ]
  },
  {
   "cell_type": "code",
   "execution_count": null,
   "metadata": {},
   "outputs": [],
   "source": []
  }
 ],
 "metadata": {
  "kernelspec": {
   "display_name": "Python 3",
   "language": "python",
   "name": "python3"
  },
  "language_info": {
   "codemirror_mode": {
    "name": "ipython",
    "version": 3
   },
   "file_extension": ".py",
   "mimetype": "text/x-python",
   "name": "python",
   "nbconvert_exporter": "python",
   "pygments_lexer": "ipython3",
   "version": "3.7.3"
  }
 },
 "nbformat": 4,
 "nbformat_minor": 2
}
