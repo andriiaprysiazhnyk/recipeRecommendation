{
 "cells": [
  {
   "cell_type": "code",
   "execution_count": 1,
   "metadata": {},
   "outputs": [
    {
     "name": "stderr",
     "output_type": "stream",
     "text": [
      "/home/andriiprysiazhnyk/anaconda3/lib/python3.7/site-packages/smart_open/smart_open_lib.py:398: UserWarning: This function is deprecated, use smart_open.open instead. See the migration notes for details: https://github.com/RaRe-Technologies/smart_open/blob/master/README.rst#migrating-to-the-new-open-function\n",
      "  'See the migration notes for details: %s' % _MIGRATION_NOTES_URL\n"
     ]
    }
   ],
   "source": [
    "import pandas as pd\n",
    "from recipe_recommender import get_best_recipe"
   ]
  },
  {
   "cell_type": "code",
   "execution_count": 2,
   "metadata": {},
   "outputs": [],
   "source": [
    "def display_recipe(recipe, chemical_fileds):\n",
    "    print(\"Title: {}\\n\\nIngredients: {}\\n\\nTags: {}\\n\".format(recipe.title, recipe.ingredients, recipe.tags))\n",
    "    for chemical_field in chemical_fileds:\n",
    "        print(chemical_field + \": \" + str(recipe[chemical_field]))"
   ]
  },
  {
   "cell_type": "code",
   "execution_count": 3,
   "metadata": {},
   "outputs": [],
   "source": [
    "chemicals = [\"Calcium\", \"Vit_C\", \"Cholestrl\"]\n",
    "ingredients_pref = {\"cheese\": True, \"avocado\": True, \"egg\": True, \"bacon\": True, \"bread\": True}"
   ]
  },
  {
   "cell_type": "code",
   "execution_count": 4,
   "metadata": {},
   "outputs": [
    {
     "name": "stdout",
     "output_type": "stream",
     "text": [
      "Title: Breakfast Burritos\n",
      "\n",
      "Ingredients: egg|cheese|tortillas|salt pepper taste|salt pepper taste|butter olive oil|cilantro|roasted potato|avocado|uncooked bacon|chipotle salsa\n",
      "\n",
      "Tags: Gluten-Free|Peanut-Free|Tree-Nut-Free|Soy-Free|Fish-Free|Shellfish-Free|\n",
      "\n",
      "Calcium: 122.63784356043043\n",
      "Vit_C: 4.065\n",
      "Cholestrl: 24.195666875235304\n"
     ]
    }
   ],
   "source": [
    "recipe, similar = get_best_recipe(ingredients_pref, {\"Vit_C\": (10, \"-\"), \"Cholestrl\": (50, \"-\")})\n",
    "display_recipe(recipe, chemicals)"
   ]
  },
  {
   "cell_type": "code",
   "execution_count": 5,
   "metadata": {},
   "outputs": [
    {
     "name": "stdout",
     "output_type": "stream",
     "text": [
      "Title: Breakfast Quesadilla\n",
      "\n",
      "Ingredients: unsalted butter|egg|avocado|cheddar cheese|flour tortillas|old el paso traditional refried bean|old el paso mild taco seasoning|salsa\n",
      "\n",
      "Tags: Vegetarian|Peanut-Free|Tree-Nut-Free|Soy-Free|Fish-Free|Shellfish-Free|\n",
      "\n",
      "Calcium: 221.39166666666668\n",
      "Vit_C: 1.6425999999999998\n",
      "Cholestrl: 34.725468662418464\n"
     ]
    }
   ],
   "source": [
    "display_recipe(similar.iloc[0], chemicals)"
   ]
  },
  {
   "cell_type": "code",
   "execution_count": 6,
   "metadata": {},
   "outputs": [
    {
     "name": "stdout",
     "output_type": "stream",
     "text": [
      "Title: Peameal Bacon Breakfast Sandwich With Maple Caramelized Onions And A Fried Egg\n",
      "\n",
      "Ingredients: egg|bread|peameal bacon canadian bacon bacon|maple syrup|grainy mustard|maple caramelized onion\n",
      "\n",
      "Tags: Dairy-Free|Peanut-Free|Tree-Nut-Free|Soy-Free|Fish-Free|Shellfish-Free|\n",
      "\n",
      "Calcium: 658.8\n",
      "Vit_C: 104.74990950226244\n",
      "Cholestrl: 331.12035595666805\n"
     ]
    }
   ],
   "source": [
    "ingredients_pref[\"potato\"] = False\n",
    "recipe, similar = get_best_recipe(ingredients_pref, {\"Vit_C\": (10, \"+\"), \"Cholestrl\": (50, \"+\")})\n",
    "display_recipe(recipe, chemicals)"
   ]
  },
  {
   "cell_type": "code",
   "execution_count": 7,
   "metadata": {},
   "outputs": [
    {
     "name": "stdout",
     "output_type": "stream",
     "text": [
      "Title: Fish Tacos with Grouper Filets\n",
      "\n",
      "Ingredients: sour cream|lime|roughly fresh cilantro|avocado|corn flour tortillas|colby jack cheese|chicken southern bake|cherry tomatoes |grouper filets\n",
      "\n",
      "Tags: Gluten-Free|Egg-Free|Peanut-Free|Tree-Nut-Free|Soy-Free|Shellfish-Free|High-Fiber|Low-Carb\n",
      "\n",
      "Calcium: 101.88577689376379\n",
      "Vit_C: 14.972436276432186\n",
      "Cholestrl: 32.670242645947646\n"
     ]
    }
   ],
   "source": [
    "ingredients_pref[\"bacon\"] = False\n",
    "ingredients_pref[\"egg\"] = False\n",
    "ingredients_pref[\"chicken\"] = True\n",
    "recipe, similar = get_best_recipe(ingredients_pref, {\"Calcium\": (200, \"-\"), \"Cholestrl\": (100, \"-\")})\n",
    "display_recipe(recipe, chemicals)"
   ]
  }
 ],
 "metadata": {
  "kernelspec": {
   "display_name": "Python 3",
   "language": "python",
   "name": "python3"
  },
  "language_info": {
   "codemirror_mode": {
    "name": "ipython",
    "version": 3
   },
   "file_extension": ".py",
   "mimetype": "text/x-python",
   "name": "python",
   "nbconvert_exporter": "python",
   "pygments_lexer": "ipython3",
   "version": "3.7.3"
  }
 },
 "nbformat": 4,
 "nbformat_minor": 2
}
