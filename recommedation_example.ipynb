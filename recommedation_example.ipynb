{
 "cells": [
  {
   "cell_type": "code",
   "execution_count": 1,
   "metadata": {},
   "outputs": [],
   "source": [
    "import pandas as pd\n",
    "import numpy as np\n",
    "from similarity_based_recommendation.neighbors_based_recommender import recommend_recipes as recommend1\n",
    "from regression_based_recommendation.ridge_based_recommender import recommend_recipes as recommend2"
   ]
  },
  {
   "cell_type": "code",
   "execution_count": 2,
   "metadata": {},
   "outputs": [],
   "source": [
    "def display_recipe(recipe, chemical_fileds):\n",
    "    print(\"Title: {}\\n\\nIngredients: {}\\n\\nTags: {}\\n\".format(recipe.title, recipe.ingredients, recipe.tags))\n",
    "    for chemical_field in chemical_fileds:\n",
    "        print(chemical_field + \": \" + str(recipe[chemical_field]))"
   ]
  },
  {
   "cell_type": "code",
   "execution_count": 3,
   "metadata": {},
   "outputs": [],
   "source": [
    "recommended = recommend1(None, 0)"
   ]
  },
  {
   "cell_type": "code",
   "execution_count": 4,
   "metadata": {
    "scrolled": true
   },
   "outputs": [
    {
     "name": "stdout",
     "output_type": "stream",
     "text": [
      "Title: Curried Bean Salad Recipe\n",
      "\n",
      "Ingredients: celery|garlic|freshly ginger fresh ginger|olive oil|cooked black lentils|juice lemon|cilantro|fine grain sea salt|favorite curry powder|cooked bean used equal amounts pebble bean mayacoba bean certainly use white bean black bean black eyed bean whatever bet edamame great salad like cook bean dried state forgiving salad canned bean well will work too serve salad hot room temperature whatever preference |red onion crescents\n",
      "\n",
      "Tags: Vegan|Vegetarian|Dairy-Free|Gluten-Free|Egg-Free|Peanut-Free|Tree-Nut-Free|Soy-Free|Fish-Free|Shellfish-Free|Balanced|High-Fiber\n",
      "\n",
      "Cholestrl: 3.568\n",
      "Protein: 7.779265\n",
      "Energ_Kcal: 220.6736\n",
      "Vit_K: 47.031415939400226\n",
      "Vit_C: 26.705325\n"
     ]
    }
   ],
   "source": [
    "display_recipe(recommended.iloc[0], [\"Cholestrl\", \"Protein\", \"Energ_Kcal\", \"Vit_K\", \"Vit_C\"])"
   ]
  },
  {
   "cell_type": "code",
   "execution_count": 5,
   "metadata": {},
   "outputs": [
    {
     "name": "stdout",
     "output_type": "stream",
     "text": [
      "Title: Ultimate Veggie Burger Recipe\n",
      "\n",
      "Ingredients: onion|egg|fresh cilantro|extra virgin olive oil clarified butter|fine grain sea salt|whole grain bread crumbs|sprouted garbanzo bean chickpeas canned garbanzos drained|micro sprouts try brocolli onion alfalfa sprouts optional|zest one lemon\n",
      "\n",
      "Tags: Vegetarian|Dairy-Free|Peanut-Free|Tree-Nut-Free|Soy-Free|Fish-Free|Shellfish-Free|\n",
      "\n",
      "Cholestrl: 5.7971631027052615\n",
      "Protein: 11.085687593787988\n",
      "Energ_Kcal: 211.50838962879075\n",
      "Vit_K: 12.995357326959565\n",
      "Vit_C: 6.3403537499999985\n"
     ]
    }
   ],
   "source": [
    "display_recipe(recommended.iloc[1], [\"Cholestrl\", \"Protein\", \"Energ_Kcal\", \"Vit_K\", \"Vit_C\"])"
   ]
  },
  {
   "cell_type": "code",
   "execution_count": 6,
   "metadata": {},
   "outputs": [
    {
     "name": "stdout",
     "output_type": "stream",
     "text": [
      "Title: Grilled Zucchini Salad\n",
      "\n",
      "Ingredients: lemon juice|olive oil|salt pepper|salt pepper|fresh herbs used basil mint tarragon cilantro|fresh herbs used basil mint tarragon cilantro|fresh herbs used basil mint tarragon cilantro|fresh herbs used basil mint tarragon cilantro|zucchini\n",
      "\n",
      "Tags: Vegan|Vegetarian|Paleo|Dairy-Free|Gluten-Free|Egg-Free|Peanut-Free|Tree-Nut-Free|Soy-Free|Fish-Free|Shellfish-Free|Low-Carb\n",
      "\n",
      "Cholestrl: 0.0\n",
      "Protein: 3.6072695\n",
      "Energ_Kcal: 238.3179\n",
      "Vit_K: 49.38792248805881\n",
      "Vit_C: 41.43774510572872\n"
     ]
    }
   ],
   "source": [
    "display_recipe(recommended.iloc[2], [\"Cholestrl\", \"Protein\", \"Energ_Kcal\", \"Vit_K\", \"Vit_C\"])"
   ]
  },
  {
   "cell_type": "code",
   "execution_count": 7,
   "metadata": {},
   "outputs": [],
   "source": [
    "recommended2 = recommend2(None, 0, \"word2vec\")"
   ]
  },
  {
   "cell_type": "code",
   "execution_count": 8,
   "metadata": {},
   "outputs": [
    {
     "name": "stdout",
     "output_type": "stream",
     "text": [
      "Title: Gluten-Free Kaleslaw Recipe\n",
      "\n",
      "Ingredients: carrot|kale variety|marcona almond coarsely\n",
      "\n",
      "Tags: Vegan|Vegetarian|Paleo|Dairy-Free|Gluten-Free|Egg-Free|Peanut-Free|Soy-Free|Fish-Free|Shellfish-Free|Balanced|High-Fiber|Low-Sodium\n",
      "\n",
      "Cholestrl: 0.0\n",
      "Protein: 3.42308125\n",
      "Energ_Kcal: 108.148125\n",
      "Vit_K: 29.76974799157413\n",
      "Vit_C: 17.152\n"
     ]
    }
   ],
   "source": [
    "display_recipe(recommended2.iloc[0], [\"Cholestrl\", \"Protein\", \"Energ_Kcal\", \"Vit_K\", \"Vit_C\"])"
   ]
  },
  {
   "cell_type": "code",
   "execution_count": 9,
   "metadata": {},
   "outputs": [
    {
     "name": "stdout",
     "output_type": "stream",
     "text": [
      "Title: Zucchini Soup Inspired by Alessandra\n",
      "\n",
      "Ingredients: shallot|olive oil cooking|salt pepper|salt pepper|water|fresh herbs basil mint chives whatever hand|delicious extra virgin olive oil needed|zucchini summer squash|zucchini summer squash\n",
      "\n",
      "Tags: Vegan|Vegetarian|Paleo|Dairy-Free|Gluten-Free|Egg-Free|Peanut-Free|Tree-Nut-Free|Soy-Free|Fish-Free|Shellfish-Free|Balanced|Low-Sodium\n",
      "\n",
      "Cholestrl: 0.0\n",
      "Protein: 2.891774625\n",
      "Energ_Kcal: 363.0979425\n",
      "Vit_K: 86.20948937912088\n",
      "Vit_C: 6.7211300000000005\n"
     ]
    }
   ],
   "source": [
    "display_recipe(recommended2.iloc[1], [\"Cholestrl\", \"Protein\", \"Energ_Kcal\", \"Vit_K\", \"Vit_C\"])"
   ]
  },
  {
   "cell_type": "code",
   "execution_count": 10,
   "metadata": {},
   "outputs": [
    {
     "name": "stdout",
     "output_type": "stream",
     "text": [
      "Title: Grilled Zucchini Salad\n",
      "\n",
      "Ingredients: lemon juice|olive oil|salt pepper|salt pepper|fresh herbs used basil mint tarragon cilantro|fresh herbs used basil mint tarragon cilantro|fresh herbs used basil mint tarragon cilantro|fresh herbs used basil mint tarragon cilantro|zucchini\n",
      "\n",
      "Tags: Vegan|Vegetarian|Paleo|Dairy-Free|Gluten-Free|Egg-Free|Peanut-Free|Tree-Nut-Free|Soy-Free|Fish-Free|Shellfish-Free|Low-Carb\n",
      "\n",
      "Cholestrl: 0.0\n",
      "Protein: 3.6072695\n",
      "Energ_Kcal: 238.3179\n",
      "Vit_K: 49.38792248805881\n",
      "Vit_C: 41.43774510572872\n"
     ]
    }
   ],
   "source": [
    "display_recipe(recommended2.iloc[2], [\"Cholestrl\", \"Protein\", \"Energ_Kcal\", \"Vit_K\", \"Vit_C\"])"
   ]
  },
  {
   "cell_type": "code",
   "execution_count": 11,
   "metadata": {},
   "outputs": [],
   "source": [
    "recommended3 = recommend2(None, 0, \"mds\")"
   ]
  },
  {
   "cell_type": "code",
   "execution_count": 12,
   "metadata": {},
   "outputs": [
    {
     "name": "stdout",
     "output_type": "stream",
     "text": [
      "Title: Pineapple Breakfast Sandwich\n",
      "\n",
      "Ingredients: strawberry|walnut|finely fresh pineapple|whole grain bread|neufchatel part skim ricotta cheese\n",
      "\n",
      "Tags: Vegetarian|Egg-Free|Peanut-Free|Soy-Free|Fish-Free|Shellfish-Free|Balanced|Low-Sodium\n",
      "\n",
      "Cholestrl: 34.78297861623157\n",
      "Protein: 17.502353312727926\n",
      "Energ_Kcal: 977.12025\n",
      "Vit_K: 12.612409852961035\n",
      "Vit_C: 13.516197552864366\n"
     ]
    }
   ],
   "source": [
    "display_recipe(recommended3.iloc[0], [\"Cholestrl\", \"Protein\", \"Energ_Kcal\", \"Vit_K\", \"Vit_C\"])"
   ]
  },
  {
   "cell_type": "code",
   "execution_count": 13,
   "metadata": {},
   "outputs": [
    {
     "name": "stdout",
     "output_type": "stream",
     "text": [
      "Title: Zucchini Soup Inspired by Alessandra\n",
      "\n",
      "Ingredients: shallot|olive oil cooking|salt pepper|salt pepper|water|fresh herbs basil mint chives whatever hand|delicious extra virgin olive oil needed|zucchini summer squash|zucchini summer squash\n",
      "\n",
      "Tags: Vegan|Vegetarian|Paleo|Dairy-Free|Gluten-Free|Egg-Free|Peanut-Free|Tree-Nut-Free|Soy-Free|Fish-Free|Shellfish-Free|Balanced|Low-Sodium\n",
      "\n",
      "Cholestrl: 0.0\n",
      "Protein: 2.891774625\n",
      "Energ_Kcal: 363.0979425\n",
      "Vit_K: 86.20948937912088\n",
      "Vit_C: 6.7211300000000005\n"
     ]
    }
   ],
   "source": [
    "display_recipe(recommended2.iloc[1], [\"Cholestrl\", \"Protein\", \"Energ_Kcal\", \"Vit_K\", \"Vit_C\"])"
   ]
  },
  {
   "cell_type": "code",
   "execution_count": 14,
   "metadata": {},
   "outputs": [
    {
     "name": "stdout",
     "output_type": "stream",
     "text": [
      "Title: Grilled Zucchini Salad\n",
      "\n",
      "Ingredients: lemon juice|olive oil|salt pepper|salt pepper|fresh herbs used basil mint tarragon cilantro|fresh herbs used basil mint tarragon cilantro|fresh herbs used basil mint tarragon cilantro|fresh herbs used basil mint tarragon cilantro|zucchini\n",
      "\n",
      "Tags: Vegan|Vegetarian|Paleo|Dairy-Free|Gluten-Free|Egg-Free|Peanut-Free|Tree-Nut-Free|Soy-Free|Fish-Free|Shellfish-Free|Low-Carb\n",
      "\n",
      "Cholestrl: 0.0\n",
      "Protein: 3.6072695\n",
      "Energ_Kcal: 238.3179\n",
      "Vit_K: 49.38792248805881\n",
      "Vit_C: 41.43774510572872\n"
     ]
    }
   ],
   "source": [
    "display_recipe(recommended2.iloc[2], [\"Cholestrl\", \"Protein\", \"Energ_Kcal\", \"Vit_K\", \"Vit_C\"])"
   ]
  },
  {
   "cell_type": "code",
   "execution_count": 15,
   "metadata": {},
   "outputs": [],
   "source": [
    "recommended4 = recommend2(None, 0, \"tfidf\")"
   ]
  },
  {
   "cell_type": "code",
   "execution_count": 16,
   "metadata": {},
   "outputs": [
    {
     "name": "stdout",
     "output_type": "stream",
     "text": [
      "Title: Gluten-Free Blueberry Corn Muffins\n",
      "\n",
      "Ingredients: cornstarch|baking powder|egg|unsalted butter melted|tapioca flour; dusting pan|fine sea salt|plus sugar|plus sugar|whole milk|white rice flour|sure use white rice flour brown will result gritty muffins |plus pure maple syrup|plus pure maple syrup|baking soda|finely ground yellow cornmeal|fresh frozen unthawed blueberry\n",
      "\n",
      "Tags: Vegetarian|Gluten-Free|Peanut-Free|Tree-Nut-Free|Soy-Free|Fish-Free|Shellfish-Free|\n",
      "\n",
      "Cholestrl: 18.233829769371926\n",
      "Protein: 10.644029093787989\n",
      "Energ_Kcal: 369.44492398106206\n",
      "Vit_K: 2.759525\n",
      "Vit_C: 2.713879851325146\n"
     ]
    }
   ],
   "source": [
    "display_recipe(recommended4.iloc[0], [\"Cholestrl\", \"Protein\", \"Energ_Kcal\", \"Vit_K\", \"Vit_C\"])"
   ]
  },
  {
   "cell_type": "code",
   "execution_count": 17,
   "metadata": {},
   "outputs": [
    {
     "name": "stdout",
     "output_type": "stream",
     "text": [
      "Title: American Breakfast Pancakes\n",
      "\n",
      "Ingredients: sugar|baking powder|purpose flour|salt|milk|butter melted cooled|egg beaten|butter frying\n",
      "\n",
      "Tags: Vegetarian|Peanut-Free|Tree-Nut-Free|Soy-Free|Fish-Free|Shellfish-Free|Balanced\n",
      "\n",
      "Cholestrl: 7.0913023484848505\n",
      "Protein: 2.8034847424242417\n",
      "Energ_Kcal: 156.54156348484847\n",
      "Vit_K: 0.8988084393939392\n",
      "Vit_C: 0.8515480757575759\n"
     ]
    }
   ],
   "source": [
    "display_recipe(recommended4.iloc[1], [\"Cholestrl\", \"Protein\", \"Energ_Kcal\", \"Vit_K\", \"Vit_C\"])"
   ]
  },
  {
   "cell_type": "code",
   "execution_count": 18,
   "metadata": {},
   "outputs": [
    {
     "name": "stdout",
     "output_type": "stream",
     "text": [
      "Title: Dinner Rolls\n",
      "\n",
      "Ingredients: sugar|vegetable oil|flour|salt|milk|active dry yeast|scant baking soda|heaping baking powder\n",
      "\n",
      "Tags: Vegetarian|Egg-Free|Peanut-Free|Tree-Nut-Free|Soy-Free|Fish-Free|Shellfish-Free|\n",
      "\n",
      "Cholestrl: 0.5206666666666666\n",
      "Protein: 1.7345145468939942\n",
      "Energ_Kcal: 53.79654532386436\n",
      "Vit_K: 0.8259083333333334\n",
      "Vit_C: 3.415372712738697\n"
     ]
    }
   ],
   "source": [
    "display_recipe(recommended4.iloc[2], [\"Cholestrl\", \"Protein\", \"Energ_Kcal\", \"Vit_K\", \"Vit_C\"])"
   ]
  }
 ],
 "metadata": {
  "kernelspec": {
   "display_name": "Python 3",
   "language": "python",
   "name": "python3"
  },
  "language_info": {
   "codemirror_mode": {
    "name": "ipython",
    "version": 3
   },
   "file_extension": ".py",
   "mimetype": "text/x-python",
   "name": "python",
   "nbconvert_exporter": "python",
   "pygments_lexer": "ipython3",
   "version": "3.7.3"
  }
 },
 "nbformat": 4,
 "nbformat_minor": 2
}
