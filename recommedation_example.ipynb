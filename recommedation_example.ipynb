{
 "cells": [
  {
   "cell_type": "code",
   "execution_count": 1,
   "metadata": {},
   "outputs": [],
   "source": [
    "import pandas as pd\n",
    "import numpy as np\n",
    "from similarity_based_recommendation.neighbors_based_recommender import recommend_recipes as recommend1\n",
    "from regression_based_recommendation.ridge_based_recommender import recommend_recipes as recommend2"
   ]
  },
  {
   "cell_type": "code",
   "execution_count": 2,
   "metadata": {},
   "outputs": [],
   "source": [
    "def display_recipe(recipe, chemical_fileds):\n",
    "    print(\"Title: {}\\n\\nIngredients: {}\\n\\nTags: {}\\n\".format(recipe.title, recipe.ingredients, recipe.tags))\n",
    "    for chemical_field in chemical_fileds:\n",
    "        print(chemical_field + \": \" + str(recipe[chemical_field]))"
   ]
  },
  {
   "cell_type": "code",
   "execution_count": 3,
   "metadata": {},
   "outputs": [],
   "source": [
    "recommended = recommend1(None, 0)"
   ]
  },
  {
   "cell_type": "code",
   "execution_count": 4,
   "metadata": {
    "scrolled": true
   },
   "outputs": [
    {
     "name": "stdout",
     "output_type": "stream",
     "text": [
      "Title: Ultimate Veggie Burger\n",
      "\n",
      "Ingredients: onion|egg|fresh cilantro|extra virgin olive oil clarified butter|fine grain sea salt|whole grain bread crumbs|sprouted garbanzo bean chickpeas canned garbanzos drained|micro sprouts try broccoli onion alfalfa sprouts|zest one lemon\n",
      "\n",
      "Tags: Vegetarian|Dairy-Free|Peanut-Free|Tree-Nut-Free|Soy-Free|Fish-Free|Shellfish-Free|High-Fiber\n",
      "\n",
      "Cholestrl: 17.391489308115784\n",
      "Protein: 33.257062781363956\n",
      "Energ_Kcal: 634.5251688863722\n",
      "Vit_K: 38.9860719808787\n",
      "Vit_C: 19.02106125\n"
     ]
    }
   ],
   "source": [
    "display_recipe(recommended.iloc[0], [\"Cholestrl\", \"Protein\", \"Energ_Kcal\", \"Vit_K\", \"Vit_C\"])"
   ]
  },
  {
   "cell_type": "code",
   "execution_count": 5,
   "metadata": {},
   "outputs": [
    {
     "name": "stdout",
     "output_type": "stream",
     "text": [
      "Title: Quick Stir Fried Peas And Carrots\n",
      "\n",
      "Ingredients: olive oil|salt taste|frozen peas carrot medley just frozen veggies room temperature water thaws minute |cumin seeds use mustard fennel|cumin seeds use mustard fennel\n",
      "\n",
      "Tags: Vegan|Vegetarian|Paleo|Dairy-Free|Gluten-Free|Egg-Free|Peanut-Free|Tree-Nut-Free|Soy-Free|Fish-Free|Shellfish-Free|Low-Carb\n",
      "\n",
      "Cholestrl: 0.0\n",
      "Protein: 0.8732099999999999\n",
      "Energ_Kcal: 120.42\n",
      "Vit_K: 17.47265\n",
      "Vit_C: 1.7617000000000005\n"
     ]
    }
   ],
   "source": [
    "display_recipe(recommended.iloc[1], [\"Cholestrl\", \"Protein\", \"Energ_Kcal\", \"Vit_K\", \"Vit_C\"])"
   ]
  },
  {
   "cell_type": "code",
   "execution_count": 6,
   "metadata": {},
   "outputs": [
    {
     "name": "stdout",
     "output_type": "stream",
     "text": [
      "Title: Eggplant Stewed In Honey And Spices\n",
      "\n",
      "Ingredients: finely fresh ginger|olive oil|salt|harissa cayenne pepper taste|globe eggplants aubergines stemmed thickly|clear honey|juice lemon|ground cumin|x baby eggplants|finely garlic\n",
      "\n",
      "Tags: Vegetarian|Paleo|Dairy-Free|Gluten-Free|Egg-Free|Peanut-Free|Tree-Nut-Free|Soy-Free|Fish-Free|Shellfish-Free|High-Fiber\n",
      "\n",
      "Cholestrl: 0.0\n",
      "Protein: 4.749715\n",
      "Energ_Kcal: 284.8382719431861\n",
      "Vit_K: 6.368683211598161\n",
      "Vit_C: 37.8039\n"
     ]
    }
   ],
   "source": [
    "display_recipe(recommended.iloc[2], [\"Cholestrl\", \"Protein\", \"Energ_Kcal\", \"Vit_K\", \"Vit_C\"])"
   ]
  },
  {
   "cell_type": "code",
   "execution_count": 7,
   "metadata": {},
   "outputs": [],
   "source": [
    "recommended2 = recommend2(None, 0, \"word2vec\")"
   ]
  },
  {
   "cell_type": "code",
   "execution_count": 8,
   "metadata": {},
   "outputs": [
    {
     "name": "stdout",
     "output_type": "stream",
     "text": [
      "Title: Stewed Greens With White Beans\n",
      "\n",
      "Ingredients: garlic|olive oil|salt|cayenne|lemon|hearty greens kale collards broccoli rabe chard|hearty greens kale collards broccoli rabe chard|hearty greens kale collards broccoli rabe chard|hearty greens kale collards broccoli rabe chard|white bean\n",
      "\n",
      "Tags: Vegan|Vegetarian|Dairy-Free|Gluten-Free|Egg-Free|Peanut-Free|Tree-Nut-Free|Soy-Free|Fish-Free|Shellfish-Free|High-Fiber\n",
      "\n",
      "Cholestrl: 0.2447596032516569\n",
      "Protein: 10.183115733333333\n",
      "Energ_Kcal: 271.52798666666666\n",
      "Vit_K: 40.53259997753101\n",
      "Vit_C: 30.95046007655272\n"
     ]
    }
   ],
   "source": [
    "display_recipe(recommended2.iloc[0], [\"Cholestrl\", \"Protein\", \"Energ_Kcal\", \"Vit_K\", \"Vit_C\"])"
   ]
  },
  {
   "cell_type": "code",
   "execution_count": 9,
   "metadata": {},
   "outputs": [
    {
     "name": "stdout",
     "output_type": "stream",
     "text": [
      "Title: Think Pink Salad\n",
      "\n",
      "Ingredients: pomegranates|white onion\n",
      "\n",
      "Tags: Vegan|Vegetarian|Paleo|Dairy-Free|Gluten-Free|Egg-Free|Peanut-Free|Tree-Nut-Free|Soy-Free|Fish-Free|Shellfish-Free|Low-Fat|Low-Sodium\n",
      "\n",
      "Cholestrl: 0.0\n",
      "Protein: 1.527942857142857\n",
      "Energ_Kcal: 75.20571428571428\n",
      "Vit_K: 8.247428571428571\n",
      "Vit_C: 5.070857142857143\n"
     ]
    }
   ],
   "source": [
    "display_recipe(recommended2.iloc[1], [\"Cholestrl\", \"Protein\", \"Energ_Kcal\", \"Vit_K\", \"Vit_C\"])"
   ]
  },
  {
   "cell_type": "code",
   "execution_count": 10,
   "metadata": {},
   "outputs": [
    {
     "name": "stdout",
     "output_type": "stream",
     "text": [
      "Title: Artichoke-olive crostini\n",
      "\n",
      "Ingredients: green pitted olive|garlic smashed|crusty bread|capers drained|artichoke hearts drained|extra virgin olive oil\n",
      "\n",
      "Tags: Vegan|Vegetarian|Dairy-Free|Egg-Free|Peanut-Free|Tree-Nut-Free|Soy-Free|Fish-Free|Shellfish-Free|Balanced\n",
      "\n",
      "Cholestrl: 13.49574465405789\n",
      "Protein: 12.526152291666667\n",
      "Energ_Kcal: 219.96392763825975\n",
      "Vit_K: 11.292802433180015\n",
      "Vit_C: 1.1838499730661496\n"
     ]
    }
   ],
   "source": [
    "display_recipe(recommended2.iloc[2], [\"Cholestrl\", \"Protein\", \"Energ_Kcal\", \"Vit_K\", \"Vit_C\"])"
   ]
  },
  {
   "cell_type": "code",
   "execution_count": 11,
   "metadata": {},
   "outputs": [],
   "source": [
    "recommended3 = recommend2(None, 0, \"mds\")"
   ]
  },
  {
   "cell_type": "code",
   "execution_count": 12,
   "metadata": {},
   "outputs": [
    {
     "name": "stdout",
     "output_type": "stream",
     "text": [
      "Title: Hot Yogurt & Barley Soup\n",
      "\n",
      "Ingredients: unsalted butter|salt freshly ground black pepper|salt freshly ground black pepper|greek yogurt|water|flat leaf parsley|onion finely|egg beaten|dried mint|fresh mint|pearl barley|green onion thin\n",
      "\n",
      "Tags: Vegetarian|Peanut-Free|Tree-Nut-Free|Soy-Free|Fish-Free|Shellfish-Free|Balanced|High-Fiber\n",
      "\n",
      "Cholestrl: 54.27056194956491\n",
      "Protein: 29.841716740972213\n",
      "Energ_Kcal: 870.5322010391501\n",
      "Vit_K: 34.24421303657003\n",
      "Vit_C: 23.21111716224952\n"
     ]
    }
   ],
   "source": [
    "display_recipe(recommended3.iloc[0], [\"Cholestrl\", \"Protein\", \"Energ_Kcal\", \"Vit_K\", \"Vit_C\"])"
   ]
  },
  {
   "cell_type": "code",
   "execution_count": 13,
   "metadata": {},
   "outputs": [
    {
     "name": "stdout",
     "output_type": "stream",
     "text": [
      "Title: Think Pink Salad\n",
      "\n",
      "Ingredients: pomegranates|white onion\n",
      "\n",
      "Tags: Vegan|Vegetarian|Paleo|Dairy-Free|Gluten-Free|Egg-Free|Peanut-Free|Tree-Nut-Free|Soy-Free|Fish-Free|Shellfish-Free|Low-Fat|Low-Sodium\n",
      "\n",
      "Cholestrl: 0.0\n",
      "Protein: 1.527942857142857\n",
      "Energ_Kcal: 75.20571428571428\n",
      "Vit_K: 8.247428571428571\n",
      "Vit_C: 5.070857142857143\n"
     ]
    }
   ],
   "source": [
    "display_recipe(recommended2.iloc[1], [\"Cholestrl\", \"Protein\", \"Energ_Kcal\", \"Vit_K\", \"Vit_C\"])"
   ]
  },
  {
   "cell_type": "code",
   "execution_count": 14,
   "metadata": {},
   "outputs": [
    {
     "name": "stdout",
     "output_type": "stream",
     "text": [
      "Title: Artichoke-olive crostini\n",
      "\n",
      "Ingredients: green pitted olive|garlic smashed|crusty bread|capers drained|artichoke hearts drained|extra virgin olive oil\n",
      "\n",
      "Tags: Vegan|Vegetarian|Dairy-Free|Egg-Free|Peanut-Free|Tree-Nut-Free|Soy-Free|Fish-Free|Shellfish-Free|Balanced\n",
      "\n",
      "Cholestrl: 13.49574465405789\n",
      "Protein: 12.526152291666667\n",
      "Energ_Kcal: 219.96392763825975\n",
      "Vit_K: 11.292802433180015\n",
      "Vit_C: 1.1838499730661496\n"
     ]
    }
   ],
   "source": [
    "display_recipe(recommended2.iloc[2], [\"Cholestrl\", \"Protein\", \"Energ_Kcal\", \"Vit_K\", \"Vit_C\"])"
   ]
  },
  {
   "cell_type": "code",
   "execution_count": 15,
   "metadata": {},
   "outputs": [],
   "source": [
    "recommended4 = recommend2(None, 0, \"tfidf\")"
   ]
  },
  {
   "cell_type": "code",
   "execution_count": 16,
   "metadata": {},
   "outputs": [
    {
     "name": "stdout",
     "output_type": "stream",
     "text": [
      "Title: Whole Wheat Dinner Muffins\n",
      "\n",
      "Ingredients: vanilla extract|baking powder|egg|salt|tbs sour cream plain yogurt|tbs unsalted butter melted sesame oil olive oil|tbs firmly packed light dark brown sugar|buttermilk|whole wheat flour graham flour|baking soda|tbs sesame seeds sprinkling|tbs yellow cornmeal\n",
      "\n",
      "Tags: Vegetarian|Peanut-Free|Tree-Nut-Free|Soy-Free|Fish-Free|Shellfish-Free|Balanced\n",
      "\n",
      "Cholestrl: 27.754326205410518\n",
      "Protein: 18.789843333333327\n",
      "Energ_Kcal: 503.33270833333336\n",
      "Vit_K: 17.61533871963481\n",
      "Vit_C: 2.4584\n"
     ]
    }
   ],
   "source": [
    "display_recipe(recommended4.iloc[0], [\"Cholestrl\", \"Protein\", \"Energ_Kcal\", \"Vit_K\", \"Vit_C\"])"
   ]
  },
  {
   "cell_type": "code",
   "execution_count": 17,
   "metadata": {},
   "outputs": [
    {
     "name": "stdout",
     "output_type": "stream",
     "text": [
      "Title: Gingered Green Beans\n",
      "\n",
      "Ingredients: garlic|salt|crushed red pepper|asparagus bean chinese long bean lengths whole green bean|ground ginger|extra virgin olive oil\n",
      "\n",
      "Tags: Vegan|Vegetarian|Paleo|Dairy-Free|Gluten-Free|Egg-Free|Peanut-Free|Tree-Nut-Free|Soy-Free|Fish-Free|Shellfish-Free|Low-Carb|Low-Sodium\n",
      "\n",
      "Cholestrl: 1.536\n",
      "Protein: 6.495124912545585\n",
      "Energ_Kcal: 155.13540877727445\n",
      "Vit_K: 15.994009286316516\n",
      "Vit_C: 9.699749999999998\n"
     ]
    }
   ],
   "source": [
    "display_recipe(recommended4.iloc[1], [\"Cholestrl\", \"Protein\", \"Energ_Kcal\", \"Vit_K\", \"Vit_C\"])"
   ]
  },
  {
   "cell_type": "code",
   "execution_count": 18,
   "metadata": {},
   "outputs": [
    {
     "name": "stdout",
     "output_type": "stream",
     "text": [
      "Title: American Breakfast Pancakes\n",
      "\n",
      "Ingredients: sugar|baking powder|purpose flour|salt|milk|butter melted cooled|egg beaten|butter frying\n",
      "\n",
      "Tags: Vegetarian|Peanut-Free|Tree-Nut-Free|Soy-Free|Fish-Free|Shellfish-Free|Balanced\n",
      "\n",
      "Cholestrl: 7.0913023484848505\n",
      "Protein: 2.8034847424242417\n",
      "Energ_Kcal: 156.54156348484847\n",
      "Vit_K: 0.8988084393939392\n",
      "Vit_C: 0.8515480757575759\n"
     ]
    }
   ],
   "source": [
    "display_recipe(recommended4.iloc[2], [\"Cholestrl\", \"Protein\", \"Energ_Kcal\", \"Vit_K\", \"Vit_C\"])"
   ]
  }
 ],
 "metadata": {
  "kernelspec": {
   "display_name": "Python 3",
   "language": "python",
   "name": "python3"
  },
  "language_info": {
   "codemirror_mode": {
    "name": "ipython",
    "version": 3
   },
   "file_extension": ".py",
   "mimetype": "text/x-python",
   "name": "python",
   "nbconvert_exporter": "python",
   "pygments_lexer": "ipython3",
   "version": "3.7.3"
  }
 },
 "nbformat": 4,
 "nbformat_minor": 2
}
