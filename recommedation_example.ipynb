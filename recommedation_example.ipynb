{
 "cells": [
  {
   "cell_type": "code",
   "execution_count": 1,
   "metadata": {},
   "outputs": [],
   "source": [
    "import pandas as pd\n",
    "import numpy as np\n",
    "from similarity_based_recommendation.neighbors_based_recommender import recommend_recipes as recommend1\n",
    "from regression_based_recommendation.ridge_based_recommender import recommend_recipes as recommend2"
   ]
  },
  {
   "cell_type": "code",
   "execution_count": 2,
   "metadata": {},
   "outputs": [],
   "source": [
    "def display_recipe(recipe, chemical_fileds):\n",
    "    print(\"Title: {}\\n\\nIngredients: {}\\n\\nTags: {}\\n\".format(recipe.title, recipe.ingredients, recipe.tags))\n",
    "    for chemical_field in chemical_fileds:\n",
    "        print(chemical_field + \": \" + str(recipe[chemical_field]))"
   ]
  },
  {
   "cell_type": "code",
   "execution_count": 3,
   "metadata": {},
   "outputs": [],
   "source": [
    "recommended = recommend1(None, 0)"
   ]
  },
  {
   "cell_type": "code",
   "execution_count": 4,
   "metadata": {
    "scrolled": true
   },
   "outputs": [
    {
     "name": "stdout",
     "output_type": "stream",
     "text": [
      "Title: Ultimate Veggie Burger\n",
      "\n",
      "Ingredients: onion|egg|fresh cilantro|extra virgin olive oil clarified butter|fine grain sea salt|whole grain bread crumbs|sprouted garbanzo bean chickpeas canned garbanzos drained|micro sprouts try broccoli onion alfalfa sprouts|zest one lemon\n",
      "\n",
      "Tags: Vegetarian|Dairy-Free|Peanut-Free|Tree-Nut-Free|Soy-Free|Fish-Free|Shellfish-Free|High-Fiber\n",
      "\n",
      "Cholestrl: 69.56595723246313\n",
      "Protein: 133.02825112545582\n",
      "Energ_Kcal: 2538.1006755454887\n",
      "Vit_K: 155.9442879235148\n",
      "Vit_C: 76.084245\n"
     ]
    }
   ],
   "source": [
    "display_recipe(recommended.iloc[0], [\"Cholestrl\", \"Protein\", \"Energ_Kcal\", \"Vit_K\", \"Vit_C\"])"
   ]
  },
  {
   "cell_type": "code",
   "execution_count": 5,
   "metadata": {},
   "outputs": [
    {
     "name": "stdout",
     "output_type": "stream",
     "text": [
      "Title: 15-Minute White Bean Soup\n",
      "\n",
      "Ingredients: garlic|olive oil|fresh lemon juice|dried oregano|coarse salt ground pepper|coarse salt ground pepper|scallions|white bean drained|vegetable broth\n",
      "\n",
      "Tags: Vegan|Vegetarian|Dairy-Free|Gluten-Free|Egg-Free|Peanut-Free|Tree-Nut-Free|Soy-Free|Fish-Free|Shellfish-Free|High-Fiber|Low-Fat\n",
      "\n",
      "Cholestrl: 0.0\n",
      "Protein: 71.6648725\n",
      "Energ_Kcal: 1905.19025\n",
      "Vit_K: 172.37760148650975\n",
      "Vit_C: 213.6031951057288\n"
     ]
    }
   ],
   "source": [
    "display_recipe(recommended.iloc[1], [\"Cholestrl\", \"Protein\", \"Energ_Kcal\", \"Vit_K\", \"Vit_C\"])"
   ]
  },
  {
   "cell_type": "code",
   "execution_count": 6,
   "metadata": {},
   "outputs": [
    {
     "name": "stdout",
     "output_type": "stream",
     "text": [
      "Title: Greek Salad\n",
      "\n",
      "Ingredients: sea salt freshly ground black pepper|sea salt freshly ground black pepper|olive oil|white wine|dried oregano|red onion|feta|egg tomato|x calamata olive|x cucumber\n",
      "\n",
      "Tags: Vegetarian|Gluten-Free|Peanut-Free|Tree-Nut-Free|Soy-Free|Fish-Free|Shellfish-Free|Low-Carb\n",
      "\n",
      "Cholestrl: 106.35795723246315\n",
      "Protein: 32.21157610045585\n",
      "Energ_Kcal: 2391.899600272745\n",
      "Vit_K: 260.5826316825942\n",
      "Vit_C: 1.57369\n"
     ]
    }
   ],
   "source": [
    "display_recipe(recommended.iloc[2], [\"Cholestrl\", \"Protein\", \"Energ_Kcal\", \"Vit_K\", \"Vit_C\"])"
   ]
  },
  {
   "cell_type": "code",
   "execution_count": 7,
   "metadata": {},
   "outputs": [],
   "source": [
    "recommended2 = recommend2(None, 0, \"word2vec\")"
   ]
  },
  {
   "cell_type": "code",
   "execution_count": 8,
   "metadata": {},
   "outputs": [
    {
     "name": "stdout",
     "output_type": "stream",
     "text": [
      "Title: Think Pink Salad\n",
      "\n",
      "Ingredients: pomegranates|white onion\n",
      "\n",
      "Tags: Vegan|Vegetarian|Paleo|Dairy-Free|Gluten-Free|Egg-Free|Peanut-Free|Tree-Nut-Free|Soy-Free|Fish-Free|Shellfish-Free|Low-Fat|Low-Sodium\n",
      "\n",
      "Cholestrl: 0.0\n",
      "Protein: 10.6956\n",
      "Energ_Kcal: 526.4399999999998\n",
      "Vit_K: 57.73199999999999\n",
      "Vit_C: 35.496\n"
     ]
    }
   ],
   "source": [
    "display_recipe(recommended2.iloc[0], [\"Cholestrl\", \"Protein\", \"Energ_Kcal\", \"Vit_K\", \"Vit_C\"])"
   ]
  },
  {
   "cell_type": "code",
   "execution_count": 9,
   "metadata": {},
   "outputs": [
    {
     "name": "stdout",
     "output_type": "stream",
     "text": [
      "Title: Gluten-Free Kaleslaw Recipe\n",
      "\n",
      "Ingredients: carrot|kale variety|marcona almond coarsely\n",
      "\n",
      "Tags: Vegan|Vegetarian|Paleo|Dairy-Free|Gluten-Free|Egg-Free|Peanut-Free|Soy-Free|Fish-Free|Shellfish-Free|Balanced|High-Fiber|Low-Sodium\n",
      "\n",
      "Cholestrl: 0.0\n",
      "Protein: 13.692325\n",
      "Energ_Kcal: 432.5925\n",
      "Vit_K: 119.07899196629651\n",
      "Vit_C: 68.608\n"
     ]
    }
   ],
   "source": [
    "display_recipe(recommended2.iloc[1], [\"Cholestrl\", \"Protein\", \"Energ_Kcal\", \"Vit_K\", \"Vit_C\"])"
   ]
  },
  {
   "cell_type": "code",
   "execution_count": 10,
   "metadata": {},
   "outputs": [
    {
     "name": "stdout",
     "output_type": "stream",
     "text": [
      "Title: Side Salad\n",
      "\n",
      "Ingredients: radicchio|salad greens|cheese croutons|real simple vinaigrette\n",
      "\n",
      "Tags: Vegetarian|Dairy-Free|Egg-Free|Peanut-Free|Tree-Nut-Free|Soy-Free|Fish-Free|Shellfish-Free|Low-Fat|Low-Sodium\n",
      "\n",
      "Cholestrl: 64.08496694918739\n",
      "Protein: 6.7661158\n",
      "Energ_Kcal: 583.3390300000002\n",
      "Vit_K: 150.1741699389905\n",
      "Vit_C: 6.798355000000001\n"
     ]
    }
   ],
   "source": [
    "display_recipe(recommended2.iloc[2], [\"Cholestrl\", \"Protein\", \"Energ_Kcal\", \"Vit_K\", \"Vit_C\"])"
   ]
  },
  {
   "cell_type": "code",
   "execution_count": 11,
   "metadata": {},
   "outputs": [],
   "source": [
    "recommended3 = recommend2(None, 0, \"mds\")"
   ]
  },
  {
   "cell_type": "code",
   "execution_count": 12,
   "metadata": {},
   "outputs": [
    {
     "name": "stdout",
     "output_type": "stream",
     "text": [
      "Title: Stinging Nettle Soup\n",
      "\n",
      "Ingredients: garlic|potato|chicken stock|olive oil|salt|white onion|ground white pepper|nettles\n",
      "\n",
      "Tags: Dairy-Free|Gluten-Free|Egg-Free|Peanut-Free|Tree-Nut-Free|Soy-Free|Fish-Free|Shellfish-Free|Balanced|High-Fiber\n",
      "\n",
      "Cholestrl: 88.0088746678332\n",
      "Protein: 47.357974125455854\n",
      "Energ_Kcal: 1692.0110000000002\n",
      "Vit_K: 141.26705069777682\n",
      "Vit_C: 54.525341370394294\n"
     ]
    }
   ],
   "source": [
    "display_recipe(recommended3.iloc[0], [\"Cholestrl\", \"Protein\", \"Energ_Kcal\", \"Vit_K\", \"Vit_C\"])"
   ]
  },
  {
   "cell_type": "code",
   "execution_count": 13,
   "metadata": {},
   "outputs": [
    {
     "name": "stdout",
     "output_type": "stream",
     "text": [
      "Title: Gluten-Free Kaleslaw Recipe\n",
      "\n",
      "Ingredients: carrot|kale variety|marcona almond coarsely\n",
      "\n",
      "Tags: Vegan|Vegetarian|Paleo|Dairy-Free|Gluten-Free|Egg-Free|Peanut-Free|Soy-Free|Fish-Free|Shellfish-Free|Balanced|High-Fiber|Low-Sodium\n",
      "\n",
      "Cholestrl: 0.0\n",
      "Protein: 13.692325\n",
      "Energ_Kcal: 432.5925\n",
      "Vit_K: 119.07899196629651\n",
      "Vit_C: 68.608\n"
     ]
    }
   ],
   "source": [
    "display_recipe(recommended2.iloc[1], [\"Cholestrl\", \"Protein\", \"Energ_Kcal\", \"Vit_K\", \"Vit_C\"])"
   ]
  },
  {
   "cell_type": "code",
   "execution_count": 14,
   "metadata": {},
   "outputs": [
    {
     "name": "stdout",
     "output_type": "stream",
     "text": [
      "Title: Side Salad\n",
      "\n",
      "Ingredients: radicchio|salad greens|cheese croutons|real simple vinaigrette\n",
      "\n",
      "Tags: Vegetarian|Dairy-Free|Egg-Free|Peanut-Free|Tree-Nut-Free|Soy-Free|Fish-Free|Shellfish-Free|Low-Fat|Low-Sodium\n",
      "\n",
      "Cholestrl: 64.08496694918739\n",
      "Protein: 6.7661158\n",
      "Energ_Kcal: 583.3390300000002\n",
      "Vit_K: 150.1741699389905\n",
      "Vit_C: 6.798355000000001\n"
     ]
    }
   ],
   "source": [
    "display_recipe(recommended2.iloc[2], [\"Cholestrl\", \"Protein\", \"Energ_Kcal\", \"Vit_K\", \"Vit_C\"])"
   ]
  },
  {
   "cell_type": "code",
   "execution_count": 15,
   "metadata": {},
   "outputs": [],
   "source": [
    "recommended4 = recommend2(None, 0, \"tfidf\")"
   ]
  },
  {
   "cell_type": "code",
   "execution_count": 16,
   "metadata": {},
   "outputs": [
    {
     "name": "stdout",
     "output_type": "stream",
     "text": [
      "Title: Apple Snack Muffins\n",
      "\n",
      "Ingredients: t vanilla extract|sugar|egg|purpose flour|t ground cinnamon|apple coarsely|unsalted butter softened|t baking powder|t ground cardamom|t baking soda\n",
      "\n",
      "Tags: Vegetarian|Peanut-Free|Tree-Nut-Free|Soy-Free|Fish-Free|Shellfish-Free|\n",
      "\n",
      "Cholestrl: 72.96795723246314\n",
      "Protein: 39.17154000000001\n",
      "Energ_Kcal: 1323.1760000000002\n",
      "Vit_K: 3.7749\n",
      "Vit_C: 14.7238\n"
     ]
    }
   ],
   "source": [
    "display_recipe(recommended4.iloc[0], [\"Cholestrl\", \"Protein\", \"Energ_Kcal\", \"Vit_K\", \"Vit_C\"])"
   ]
  },
  {
   "cell_type": "code",
   "execution_count": 17,
   "metadata": {},
   "outputs": [
    {
     "name": "stdout",
     "output_type": "stream",
     "text": [
      "Title: After-Ski Cinnamon Tea Cakes (Gluten-Free)\n",
      "\n",
      "Ingredients: baking powder|unsalted butter melted|ground cinnamon sifted|blond cane sugar|almond flour|minus brown rice flour|quinoa flour|x egg\n",
      "\n",
      "Tags: Vegetarian|Gluten-Free|Peanut-Free|Soy-Free|Fish-Free|Shellfish-Free|Low-Sodium\n",
      "\n",
      "Cholestrl: 95.662\n",
      "Protein: 23.569415\n",
      "Energ_Kcal: 1234.6095\n",
      "Vit_K: 3.2736\n",
      "Vit_C: 0.6463000000000001\n"
     ]
    }
   ],
   "source": [
    "display_recipe(recommended4.iloc[1], [\"Cholestrl\", \"Protein\", \"Energ_Kcal\", \"Vit_K\", \"Vit_C\"])"
   ]
  },
  {
   "cell_type": "code",
   "execution_count": 18,
   "metadata": {},
   "outputs": [
    {
     "name": "stdout",
     "output_type": "stream",
     "text": [
      "Title: Low Carb Chocolate Cheesecake\n",
      "\n",
      "Ingredients: egg|vanilla|almond meal|cocoa powder| butter melted|cream cheese|pure maple syrup|crust|coconut flour| cocoa\n",
      "\n",
      "Tags: Vegetarian|Peanut-Free|Soy-Free|Fish-Free|Shellfish-Free|Low-Carb\n",
      "\n",
      "Cholestrl: 149.30799056579647\n",
      "Protein: 71.20703054166667\n",
      "Energ_Kcal: 2240.815840833333\n",
      "Vit_K: 12.599623918755816\n",
      "Vit_C: 16.298083333333334\n"
     ]
    }
   ],
   "source": [
    "display_recipe(recommended4.iloc[2], [\"Cholestrl\", \"Protein\", \"Energ_Kcal\", \"Vit_K\", \"Vit_C\"])"
   ]
  }
 ],
 "metadata": {
  "kernelspec": {
   "display_name": "Python 3",
   "language": "python",
   "name": "python3"
  },
  "language_info": {
   "codemirror_mode": {
    "name": "ipython",
    "version": 3
   },
   "file_extension": ".py",
   "mimetype": "text/x-python",
   "name": "python",
   "nbconvert_exporter": "python",
   "pygments_lexer": "ipython3",
   "version": "3.7.3"
  }
 },
 "nbformat": 4,
 "nbformat_minor": 2
}
