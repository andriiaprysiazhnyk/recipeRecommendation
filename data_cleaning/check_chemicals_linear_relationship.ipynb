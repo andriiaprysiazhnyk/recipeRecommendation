{
 "cells": [
  {
   "cell_type": "code",
   "execution_count": 18,
   "metadata": {},
   "outputs": [],
   "source": [
    "import pandas as pd\n",
    "import matplotlib.pyplot as plt\n",
    "%matplotlib inline"
   ]
  },
  {
   "cell_type": "code",
   "execution_count": 19,
   "metadata": {},
   "outputs": [],
   "source": [
    "abbrev = pd.read_csv(\"../cleaned_data/abbrev.csv\", sep=\";\")"
   ]
  },
  {
   "cell_type": "code",
   "execution_count": 20,
   "metadata": {},
   "outputs": [],
   "source": [
    "chemicals = abbrev.drop(labels=[\"ndb\", \"Shrt_Desc\", \"Refuse_Pct\", \"GmWt_1\", \"GmWt_Desc1\", \"GmWt_2\", \"GmWt_Desc2\"], axis=1)\n",
    "for column in chemicals.columns:\n",
    "    chemicals[column] = chemicals[column].apply(lambda x: x if type(x) != str else float(x.replace(\",\", \".\")))"
   ]
  },
  {
   "cell_type": "code",
   "execution_count": 21,
   "metadata": {},
   "outputs": [
    {
     "data": {
      "text/plain": [
       "Text(0.5, 1.0, 'Correlations')"
      ]
     },
     "execution_count": 21,
     "metadata": {},
     "output_type": "execute_result"
    },
    {
     "data": {
      "image/png": "[encoded data removed]",
      "text/plain": [
       "<Figure size 432x288 with 1 Axes>"
      ]
     },
     "metadata": {
      "needs_background": "light"
     },
     "output_type": "display_data"
    }
   ],
   "source": [
    "corr = chemicals.corr()\n",
    "largest_corr = []\n",
    "for column in chemicals.columns:\n",
    "    largest_corr.append(corr[column].apply(abs).nlargest(2)[1])\n",
    "plt.hist(largest_corr)\n",
    "plt.title(\"Correlations\")"
   ]
  },
  {
   "cell_type": "code",
   "execution_count": 26,
   "metadata": {},
   "outputs": [],
   "source": [
    "from sklearn.impute import SimpleImputer\n",
    "from sklearn.linear_model import LinearRegression\n",
    "imputer = SimpleImputer(strategy=\"mean\")\n",
    "reg = LinearRegression()"
   ]
  },
  {
   "cell_type": "code",
   "execution_count": 27,
   "metadata": {},
   "outputs": [],
   "source": [
    "r2 = []\n",
    "for column in chemicals.columns:\n",
    "    curr_chemicals = chemicals.dropna(subset=[column])\n",
    "    dependent_variables = imputer.fit_transform(curr_chemicals.drop(columns=[column]))\n",
    "    reg.fit(dependent_variables, curr_chemicals[column])\n",
    "    r2.append(reg.score(dependent_variables, curr_chemicals[column]))"
   ]
  },
  {
   "cell_type": "code",
   "execution_count": 28,
   "metadata": {},
   "outputs": [
    {
     "data": {
      "text/plain": [
       "0.7814435908196471"
      ]
     },
     "execution_count": 28,
     "metadata": {},
     "output_type": "execute_result"
    }
   ],
   "source": [
    "sum(r2) / len(r2)"
   ]
  },
  {
   "cell_type": "code",
   "execution_count": 29,
   "metadata": {},
   "outputs": [
    {
     "data": {
      "text/plain": [
       "Text(0.5, 1.0, 'Determination coefficients')"
      ]
     },
     "execution_count": 29,
     "metadata": {},
     "output_type": "execute_result"
    },
    {
     "data": {
      "image/png": "[encoded data removed]",
      "text/plain": [
       "<Figure size 432x288 with 1 Axes>"
      ]
     },
     "metadata": {
      "needs_background": "light"
     },
     "output_type": "display_data"
    }
   ],
   "source": [
    "plt.hist(r2)\n",
    "plt.title(\"Determination coefficients\")"
   ]
  }
 ],
 "metadata": {
  "kernelspec": {
   "display_name": "Python 3",
   "language": "python",
   "name": "python3"
  },
  "language_info": {
   "codemirror_mode": {
    "name": "ipython",
    "version": 3
   },
   "file_extension": ".py",
   "mimetype": "text/x-python",
   "name": "python",
   "nbconvert_exporter": "python",
   "pygments_lexer": "ipython3",
   "version": "3.7.3"
  }
 },
 "nbformat": 4,
 "nbformat_minor": 2
}
