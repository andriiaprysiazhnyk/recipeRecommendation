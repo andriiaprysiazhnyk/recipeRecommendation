{
 "cells": [
  {
   "cell_type": "code",
   "execution_count": 1,
   "metadata": {},
   "outputs": [],
   "source": [
    "import pandas as pd\n",
    "import matplotlib.pyplot as plt\n",
    "%matplotlib inline"
   ]
  },
  {
   "cell_type": "code",
   "execution_count": 63,
   "metadata": {},
   "outputs": [],
   "source": [
    "abbrev = pd.read_csv(\"../cleaned_data2/abbrev.csv\", sep=\";\")"
   ]
  },
  {
   "cell_type": "code",
   "execution_count": 64,
   "metadata": {},
   "outputs": [],
   "source": [
    "chemicals = abbrev.drop(labels=[\"ndb\", \"Shrt_Desc\", \"Refuse_Pct\", \"GmWt_1\", \"GmWt_Desc1\", \"GmWt_2\", \"GmWt_Desc2\"], axis=1)\n",
    "for column in chemicals.columns:\n",
    "    chemicals[column] = chemicals[column].apply(lambda x: x if type(x) != str else float(x.replace(\",\", \".\")))"
   ]
  },
  {
   "cell_type": "code",
   "execution_count": 66,
   "metadata": {},
   "outputs": [
    {
     "data": {
      "text/plain": [
       "(array([ 1.,  1.,  0.,  4.,  3., 10.,  7.,  6.,  7.,  7.]),\n",
       " array([0.08596594, 0.17736802, 0.2687701 , 0.36017218, 0.45157425,\n",
       "        0.54297633, 0.63437841, 0.72578049, 0.81718257, 0.90858465,\n",
       "        0.99998672]),\n",
       " <a list of 10 Patch objects>)"
      ]
     },
     "execution_count": 66,
     "metadata": {},
     "output_type": "execute_result"
    },
    {
     "data": {
      "image/png": "[encoded data removed]",
      "text/plain": [
       "<Figure size 432x288 with 1 Axes>"
      ]
     },
     "metadata": {
      "needs_background": "light"
     },
     "output_type": "display_data"
    }
   ],
   "source": [
    "corr = chemicals.corr()\n",
    "largest_corr = []\n",
    "for column in chemicals.columns:\n",
    "    largest_corr.append(corr[column].apply(abs).nlargest(2)[1])\n",
    "plt.hist(largest_corr)"
   ]
  },
  {
   "cell_type": "code",
   "execution_count": 67,
   "metadata": {},
   "outputs": [],
   "source": [
    "from sklearn.impute import SimpleImputer\n",
    "from sklearn.linear_model import LinearRegression\n",
    "imputer = SimpleImputer(strategy=\"mean\")\n",
    "reg = LinearRegression()"
   ]
  },
  {
   "cell_type": "code",
   "execution_count": 68,
   "metadata": {},
   "outputs": [],
   "source": [
    "r2 = []\n",
    "for column in chemicals.columns:\n",
    "    curr_chemicals = chemicals.dropna(subset=[column])\n",
    "    dependent_variables = imputer.fit_transform(curr_chemicals.drop(columns=[column]))\n",
    "    reg.fit(dependent_variables, curr_chemicals[column])\n",
    "    r2.append(reg.score(dependent_variables, curr_chemicals[column]))"
   ]
  },
  {
   "cell_type": "code",
   "execution_count": 69,
   "metadata": {},
   "outputs": [
    {
     "data": {
      "text/plain": [
       "0.7356160100043094"
      ]
     },
     "execution_count": 69,
     "metadata": {},
     "output_type": "execute_result"
    }
   ],
   "source": [
    "sum(r2) / len(r2)"
   ]
  },
  {
   "cell_type": "code",
   "execution_count": 70,
   "metadata": {},
   "outputs": [
    {
     "data": {
      "text/plain": [
       "(array([ 1.,  1.,  2.,  1.,  2.,  8.,  6.,  3.,  3., 19.]),\n",
       " array([0.03059354, 0.12753156, 0.22446959, 0.32140762, 0.41834564,\n",
       "        0.51528367, 0.6122217 , 0.70915972, 0.80609775, 0.90303577,\n",
       "        0.9999738 ]),\n",
       " <a list of 10 Patch objects>)"
      ]
     },
     "execution_count": 70,
     "metadata": {},
     "output_type": "execute_result"
    },
    {
     "data": {
      "image/png": "[encoded data removed]",
      "text/plain": [
       "<Figure size 432x288 with 1 Axes>"
      ]
     },
     "metadata": {
      "needs_background": "light"
     },
     "output_type": "display_data"
    }
   ],
   "source": [
    "plt.hist(r2)"
   ]
  }
 ],
 "metadata": {
  "kernelspec": {
   "display_name": "Python 3",
   "language": "python",
   "name": "python3"
  },
  "language_info": {
   "codemirror_mode": {
    "name": "ipython",
    "version": 3
   },
   "file_extension": ".py",
   "mimetype": "text/x-python",
   "name": "python",
   "nbconvert_exporter": "python",
   "pygments_lexer": "ipython3",
   "version": "3.7.3"
  }
 },
 "nbformat": 4,
 "nbformat_minor": 2
}
